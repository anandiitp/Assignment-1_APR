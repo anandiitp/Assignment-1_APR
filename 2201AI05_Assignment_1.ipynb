{
  "cells": [
    {
      "cell_type": "markdown",
      "id": "197195d4",
      "metadata": {
        "papermill": {
          "duration": 0.00703,
          "end_time": "2025-03-26T11:25:46.441938",
          "exception": false,
          "start_time": "2025-03-26T11:25:46.434908",
          "status": "completed"
        },
        "tags": [],
        "id": "197195d4"
      },
      "source": [
        "# About Dataset"
      ]
    },
    {
      "cell_type": "markdown",
      "id": "aaa01dbb",
      "metadata": {
        "papermill": {
          "duration": 0.005974,
          "end_time": "2025-03-26T11:25:46.454581",
          "exception": false,
          "start_time": "2025-03-26T11:25:46.448607",
          "status": "completed"
        },
        "tags": [],
        "id": "aaa01dbb"
      },
      "source": [
        "This dataset is a synthetic version inspired by the original Credit Risk dataset on Kaggle and enriched with additional variables based on Financial Risk for Loan Approval data. SMOTENC was used to simulate new data points to enlarge the instances. The dataset is structured for both categorical and continuous features.\n",
        "\n",
        "The dataset contains 45,000 records and 14 variables."
      ]
    },
    {
      "cell_type": "markdown",
      "id": "f5f8d2c9",
      "metadata": {
        "papermill": {
          "duration": 0.006045,
          "end_time": "2025-03-26T11:25:46.466922",
          "exception": false,
          "start_time": "2025-03-26T11:25:46.460877",
          "status": "completed"
        },
        "tags": [],
        "id": "f5f8d2c9"
      },
      "source": [
        "| Column                                  | Description                                               | Type             |\n",
        "|-----------------------------------------|-----------------------------------------------------------|------------------|\n",
        "| person_age                              | Age of the person                                         | Float            |\n",
        "| person_gender                           | Gender of the person                                      | Categorical      |\n",
        "| person_education                        | Highest education level                                   | Categorical      |\n",
        "| person_income                           | Annual income                                             | Float            |\n",
        "| person_emp_exp                          | Years of employment experience                           | Integer          |\n",
        "| person_home_ownership                   | Home ownership status (e.g., rent, own, mortgage)        | Categorical      |\n",
        "| loan_amnt                               | Loan amount requested                                     | Float            |\n",
        "| loan_intent                             | Purpose of the loan                                       | Categorical      |\n",
        "| loan_int_rate                           | Loan interest rate                                        | Float            |\n",
        "| loan_percent_income                     | Loan amount as a percentage of annual income             | Float            |\n",
        "| cb_person_cred_hist_length              | Length of credit history in years                        | Float            |\n",
        "| credit_score                            | Credit score of the person                               | Integer          |\n",
        "| previous_loan_defaults_on_file          | Indicator of previous loan defaults                      | Categorical      |\n",
        "| loan_status (target variable)           | Loan approval status: 1 = approved; 0 = rejected         | Integer          |\n"
      ]
    },
    {
      "cell_type": "markdown",
      "id": "4ad528e8",
      "metadata": {
        "papermill": {
          "duration": 0.00604,
          "end_time": "2025-03-26T11:25:46.479549",
          "exception": false,
          "start_time": "2025-03-26T11:25:46.473509",
          "status": "completed"
        },
        "tags": [],
        "id": "4ad528e8"
      },
      "source": [
        "# Project"
      ]
    },
    {
      "cell_type": "code",
      "execution_count": 1,
      "id": "bc400355",
      "metadata": {
        "_cell_guid": "b1076dfc-b9ad-4769-8c92-a6c4dae69d19",
        "_uuid": "8f2839f25d086af736a60e9eeb907d3b93b6e0e5",
        "execution": {
          "iopub.execute_input": "2025-03-26T11:25:46.505539Z",
          "iopub.status.busy": "2025-03-26T11:25:46.505138Z",
          "iopub.status.idle": "2025-03-26T11:25:47.398325Z",
          "shell.execute_reply": "2025-03-26T11:25:47.397018Z"
        },
        "papermill": {
          "duration": 0.902344,
          "end_time": "2025-03-26T11:25:47.400205",
          "exception": false,
          "start_time": "2025-03-26T11:25:46.497861",
          "status": "completed"
        },
        "tags": [],
        "id": "bc400355"
      },
      "outputs": [],
      "source": [
        "# =============================\n",
        "# 1. Import Libraries\n",
        "# =============================\n",
        "import pandas as pd\n",
        "import numpy as np\n",
        "import matplotlib.pyplot as plt\n",
        "import seaborn as sns\n",
        "\n",
        "from sklearn.model_selection import train_test_split\n",
        "from sklearn.preprocessing import LabelEncoder, StandardScaler\n",
        "from sklearn.linear_model import LogisticRegression\n",
        "from sklearn.metrics import accuracy_score, confusion_matrix, classification_report"
      ]
    },
    {
      "cell_type": "markdown",
      "id": "55c13d99",
      "metadata": {
        "papermill": {
          "duration": 0.006046,
          "end_time": "2025-03-26T11:25:47.412967",
          "exception": false,
          "start_time": "2025-03-26T11:25:47.406921",
          "status": "completed"
        },
        "tags": [],
        "id": "55c13d99"
      },
      "source": [
        "# Import Dataset"
      ]
    },
    {
      "cell_type": "code",
      "execution_count": 3,
      "id": "dec70c77",
      "metadata": {
        "execution": {
          "iopub.execute_input": "2025-03-26T11:25:47.427119Z",
          "iopub.status.busy": "2025-03-26T11:25:47.426576Z",
          "iopub.status.idle": "2025-03-26T11:25:47.603320Z",
          "shell.execute_reply": "2025-03-26T11:25:47.602025Z"
        },
        "papermill": {
          "duration": 0.185667,
          "end_time": "2025-03-26T11:25:47.604979",
          "exception": false,
          "start_time": "2025-03-26T11:25:47.419312",
          "status": "completed"
        },
        "tags": [],
        "colab": {
          "base_uri": "https://localhost:8080/"
        },
        "id": "dec70c77",
        "outputId": "e361c427-9800-443d-de84-8b8180db17e8"
      },
      "outputs": [
        {
          "output_type": "stream",
          "name": "stdout",
          "text": [
            "Mounted at /content/drive\n"
          ]
        }
      ],
      "source": [
        "\n",
        "# =============================\n",
        "# 2. Load Dataset\n",
        "# =============================\n",
        "from google.colab import drive\n",
        "drive.mount('/content/drive')\n"
      ]
    },
    {
      "cell_type": "code",
      "source": [
        "import pandas as pd\n",
        "\n",
        "df = pd.read_csv('/content/drive/MyDrive/loan_data.csv')\n",
        "\n",
        "# Display the first 5 rows\n",
        "display(df.head())"
      ],
      "metadata": {
        "colab": {
          "base_uri": "https://localhost:8080/",
          "height": 226
        },
        "id": "ljjphV9Z4HeB",
        "outputId": "8ccc431d-2929-497e-d87b-d14a01dd008c"
      },
      "id": "ljjphV9Z4HeB",
      "execution_count": 4,
      "outputs": [
        {
          "output_type": "display_data",
          "data": {
            "text/plain": [
              "   person_age person_gender person_education  person_income  person_emp_exp  \\\n",
              "0        22.0        female           Master        71948.0               0   \n",
              "1        21.0        female      High School        12282.0               0   \n",
              "2        25.0        female      High School        12438.0               3   \n",
              "3        23.0        female         Bachelor        79753.0               0   \n",
              "4        24.0          male           Master        66135.0               1   \n",
              "\n",
              "  person_home_ownership  loan_amnt loan_intent  loan_int_rate  \\\n",
              "0                  RENT    35000.0    PERSONAL          16.02   \n",
              "1                   OWN     1000.0   EDUCATION          11.14   \n",
              "2              MORTGAGE     5500.0     MEDICAL          12.87   \n",
              "3                  RENT    35000.0     MEDICAL          15.23   \n",
              "4                  RENT    35000.0     MEDICAL          14.27   \n",
              "\n",
              "   loan_percent_income  cb_person_cred_hist_length  credit_score  \\\n",
              "0                 0.49                         3.0           561   \n",
              "1                 0.08                         2.0           504   \n",
              "2                 0.44                         3.0           635   \n",
              "3                 0.44                         2.0           675   \n",
              "4                 0.53                         4.0           586   \n",
              "\n",
              "  previous_loan_defaults_on_file  loan_status  \n",
              "0                             No            1  \n",
              "1                            Yes            0  \n",
              "2                             No            1  \n",
              "3                             No            1  \n",
              "4                             No            1  "
            ],
            "text/html": [
              "\n",
              "  <div id=\"df-7e75ecda-e1b6-4979-9d11-384cd0dbcf63\" class=\"colab-df-container\">\n",
              "    <div>\n",
              "<style scoped>\n",
              "    .dataframe tbody tr th:only-of-type {\n",
              "        vertical-align: middle;\n",
              "    }\n",
              "\n",
              "    .dataframe tbody tr th {\n",
              "        vertical-align: top;\n",
              "    }\n",
              "\n",
              "    .dataframe thead th {\n",
              "        text-align: right;\n",
              "    }\n",
              "</style>\n",
              "<table border=\"1\" class=\"dataframe\">\n",
              "  <thead>\n",
              "    <tr style=\"text-align: right;\">\n",
              "      <th></th>\n",
              "      <th>person_age</th>\n",
              "      <th>person_gender</th>\n",
              "      <th>person_education</th>\n",
              "      <th>person_income</th>\n",
              "      <th>person_emp_exp</th>\n",
              "      <th>person_home_ownership</th>\n",
              "      <th>loan_amnt</th>\n",
              "      <th>loan_intent</th>\n",
              "      <th>loan_int_rate</th>\n",
              "      <th>loan_percent_income</th>\n",
              "      <th>cb_person_cred_hist_length</th>\n",
              "      <th>credit_score</th>\n",
              "      <th>previous_loan_defaults_on_file</th>\n",
              "      <th>loan_status</th>\n",
              "    </tr>\n",
              "  </thead>\n",
              "  <tbody>\n",
              "    <tr>\n",
              "      <th>0</th>\n",
              "      <td>22.0</td>\n",
              "      <td>female</td>\n",
              "      <td>Master</td>\n",
              "      <td>71948.0</td>\n",
              "      <td>0</td>\n",
              "      <td>RENT</td>\n",
              "      <td>35000.0</td>\n",
              "      <td>PERSONAL</td>\n",
              "      <td>16.02</td>\n",
              "      <td>0.49</td>\n",
              "      <td>3.0</td>\n",
              "      <td>561</td>\n",
              "      <td>No</td>\n",
              "      <td>1</td>\n",
              "    </tr>\n",
              "    <tr>\n",
              "      <th>1</th>\n",
              "      <td>21.0</td>\n",
              "      <td>female</td>\n",
              "      <td>High School</td>\n",
              "      <td>12282.0</td>\n",
              "      <td>0</td>\n",
              "      <td>OWN</td>\n",
              "      <td>1000.0</td>\n",
              "      <td>EDUCATION</td>\n",
              "      <td>11.14</td>\n",
              "      <td>0.08</td>\n",
              "      <td>2.0</td>\n",
              "      <td>504</td>\n",
              "      <td>Yes</td>\n",
              "      <td>0</td>\n",
              "    </tr>\n",
              "    <tr>\n",
              "      <th>2</th>\n",
              "      <td>25.0</td>\n",
              "      <td>female</td>\n",
              "      <td>High School</td>\n",
              "      <td>12438.0</td>\n",
              "      <td>3</td>\n",
              "      <td>MORTGAGE</td>\n",
              "      <td>5500.0</td>\n",
              "      <td>MEDICAL</td>\n",
              "      <td>12.87</td>\n",
              "      <td>0.44</td>\n",
              "      <td>3.0</td>\n",
              "      <td>635</td>\n",
              "      <td>No</td>\n",
              "      <td>1</td>\n",
              "    </tr>\n",
              "    <tr>\n",
              "      <th>3</th>\n",
              "      <td>23.0</td>\n",
              "      <td>female</td>\n",
              "      <td>Bachelor</td>\n",
              "      <td>79753.0</td>\n",
              "      <td>0</td>\n",
              "      <td>RENT</td>\n",
              "      <td>35000.0</td>\n",
              "      <td>MEDICAL</td>\n",
              "      <td>15.23</td>\n",
              "      <td>0.44</td>\n",
              "      <td>2.0</td>\n",
              "      <td>675</td>\n",
              "      <td>No</td>\n",
              "      <td>1</td>\n",
              "    </tr>\n",
              "    <tr>\n",
              "      <th>4</th>\n",
              "      <td>24.0</td>\n",
              "      <td>male</td>\n",
              "      <td>Master</td>\n",
              "      <td>66135.0</td>\n",
              "      <td>1</td>\n",
              "      <td>RENT</td>\n",
              "      <td>35000.0</td>\n",
              "      <td>MEDICAL</td>\n",
              "      <td>14.27</td>\n",
              "      <td>0.53</td>\n",
              "      <td>4.0</td>\n",
              "      <td>586</td>\n",
              "      <td>No</td>\n",
              "      <td>1</td>\n",
              "    </tr>\n",
              "  </tbody>\n",
              "</table>\n",
              "</div>\n",
              "    <div class=\"colab-df-buttons\">\n",
              "\n",
              "  <div class=\"colab-df-container\">\n",
              "    <button class=\"colab-df-convert\" onclick=\"convertToInteractive('df-7e75ecda-e1b6-4979-9d11-384cd0dbcf63')\"\n",
              "            title=\"Convert this dataframe to an interactive table.\"\n",
              "            style=\"display:none;\">\n",
              "\n",
              "  <svg xmlns=\"http://www.w3.org/2000/svg\" height=\"24px\" viewBox=\"0 -960 960 960\">\n",
              "    <path d=\"M120-120v-720h720v720H120Zm60-500h600v-160H180v160Zm220 220h160v-160H400v160Zm0 220h160v-160H400v160ZM180-400h160v-160H180v160Zm440 0h160v-160H620v160ZM180-180h160v-160H180v160Zm440 0h160v-160H620v160Z\"/>\n",
              "  </svg>\n",
              "    </button>\n",
              "\n",
              "  <style>\n",
              "    .colab-df-container {\n",
              "      display:flex;\n",
              "      gap: 12px;\n",
              "    }\n",
              "\n",
              "    .colab-df-convert {\n",
              "      background-color: #E8F0FE;\n",
              "      border: none;\n",
              "      border-radius: 50%;\n",
              "      cursor: pointer;\n",
              "      display: none;\n",
              "      fill: #1967D2;\n",
              "      height: 32px;\n",
              "      padding: 0 0 0 0;\n",
              "      width: 32px;\n",
              "    }\n",
              "\n",
              "    .colab-df-convert:hover {\n",
              "      background-color: #E2EBFA;\n",
              "      box-shadow: 0px 1px 2px rgba(60, 64, 67, 0.3), 0px 1px 3px 1px rgba(60, 64, 67, 0.15);\n",
              "      fill: #174EA6;\n",
              "    }\n",
              "\n",
              "    .colab-df-buttons div {\n",
              "      margin-bottom: 4px;\n",
              "    }\n",
              "\n",
              "    [theme=dark] .colab-df-convert {\n",
              "      background-color: #3B4455;\n",
              "      fill: #D2E3FC;\n",
              "    }\n",
              "\n",
              "    [theme=dark] .colab-df-convert:hover {\n",
              "      background-color: #434B5C;\n",
              "      box-shadow: 0px 1px 3px 1px rgba(0, 0, 0, 0.15);\n",
              "      filter: drop-shadow(0px 1px 2px rgba(0, 0, 0, 0.3));\n",
              "      fill: #FFFFFF;\n",
              "    }\n",
              "  </style>\n",
              "\n",
              "    <script>\n",
              "      const buttonEl =\n",
              "        document.querySelector('#df-7e75ecda-e1b6-4979-9d11-384cd0dbcf63 button.colab-df-convert');\n",
              "      buttonEl.style.display =\n",
              "        google.colab.kernel.accessAllowed ? 'block' : 'none';\n",
              "\n",
              "      async function convertToInteractive(key) {\n",
              "        const element = document.querySelector('#df-7e75ecda-e1b6-4979-9d11-384cd0dbcf63');\n",
              "        const dataTable =\n",
              "          await google.colab.kernel.invokeFunction('convertToInteractive',\n",
              "                                                    [key], {});\n",
              "        if (!dataTable) return;\n",
              "\n",
              "        const docLinkHtml = 'Like what you see? Visit the ' +\n",
              "          '<a target=\"_blank\" href=https://colab.research.google.com/notebooks/data_table.ipynb>data table notebook</a>'\n",
              "          + ' to learn more about interactive tables.';\n",
              "        element.innerHTML = '';\n",
              "        dataTable['output_type'] = 'display_data';\n",
              "        await google.colab.output.renderOutput(dataTable, element);\n",
              "        const docLink = document.createElement('div');\n",
              "        docLink.innerHTML = docLinkHtml;\n",
              "        element.appendChild(docLink);\n",
              "      }\n",
              "    </script>\n",
              "  </div>\n",
              "\n",
              "\n",
              "    <div id=\"df-b4efc3f7-5831-4a0f-9c97-7c1a7f6acc64\">\n",
              "      <button class=\"colab-df-quickchart\" onclick=\"quickchart('df-b4efc3f7-5831-4a0f-9c97-7c1a7f6acc64')\"\n",
              "                title=\"Suggest charts\"\n",
              "                style=\"display:none;\">\n",
              "\n",
              "<svg xmlns=\"http://www.w3.org/2000/svg\" height=\"24px\"viewBox=\"0 0 24 24\"\n",
              "     width=\"24px\">\n",
              "    <g>\n",
              "        <path d=\"M19 3H5c-1.1 0-2 .9-2 2v14c0 1.1.9 2 2 2h14c1.1 0 2-.9 2-2V5c0-1.1-.9-2-2-2zM9 17H7v-7h2v7zm4 0h-2V7h2v10zm4 0h-2v-4h2v4z\"/>\n",
              "    </g>\n",
              "</svg>\n",
              "      </button>\n",
              "\n",
              "<style>\n",
              "  .colab-df-quickchart {\n",
              "      --bg-color: #E8F0FE;\n",
              "      --fill-color: #1967D2;\n",
              "      --hover-bg-color: #E2EBFA;\n",
              "      --hover-fill-color: #174EA6;\n",
              "      --disabled-fill-color: #AAA;\n",
              "      --disabled-bg-color: #DDD;\n",
              "  }\n",
              "\n",
              "  [theme=dark] .colab-df-quickchart {\n",
              "      --bg-color: #3B4455;\n",
              "      --fill-color: #D2E3FC;\n",
              "      --hover-bg-color: #434B5C;\n",
              "      --hover-fill-color: #FFFFFF;\n",
              "      --disabled-bg-color: #3B4455;\n",
              "      --disabled-fill-color: #666;\n",
              "  }\n",
              "\n",
              "  .colab-df-quickchart {\n",
              "    background-color: var(--bg-color);\n",
              "    border: none;\n",
              "    border-radius: 50%;\n",
              "    cursor: pointer;\n",
              "    display: none;\n",
              "    fill: var(--fill-color);\n",
              "    height: 32px;\n",
              "    padding: 0;\n",
              "    width: 32px;\n",
              "  }\n",
              "\n",
              "  .colab-df-quickchart:hover {\n",
              "    background-color: var(--hover-bg-color);\n",
              "    box-shadow: 0 1px 2px rgba(60, 64, 67, 0.3), 0 1px 3px 1px rgba(60, 64, 67, 0.15);\n",
              "    fill: var(--button-hover-fill-color);\n",
              "  }\n",
              "\n",
              "  .colab-df-quickchart-complete:disabled,\n",
              "  .colab-df-quickchart-complete:disabled:hover {\n",
              "    background-color: var(--disabled-bg-color);\n",
              "    fill: var(--disabled-fill-color);\n",
              "    box-shadow: none;\n",
              "  }\n",
              "\n",
              "  .colab-df-spinner {\n",
              "    border: 2px solid var(--fill-color);\n",
              "    border-color: transparent;\n",
              "    border-bottom-color: var(--fill-color);\n",
              "    animation:\n",
              "      spin 1s steps(1) infinite;\n",
              "  }\n",
              "\n",
              "  @keyframes spin {\n",
              "    0% {\n",
              "      border-color: transparent;\n",
              "      border-bottom-color: var(--fill-color);\n",
              "      border-left-color: var(--fill-color);\n",
              "    }\n",
              "    20% {\n",
              "      border-color: transparent;\n",
              "      border-left-color: var(--fill-color);\n",
              "      border-top-color: var(--fill-color);\n",
              "    }\n",
              "    30% {\n",
              "      border-color: transparent;\n",
              "      border-left-color: var(--fill-color);\n",
              "      border-top-color: var(--fill-color);\n",
              "      border-right-color: var(--fill-color);\n",
              "    }\n",
              "    40% {\n",
              "      border-color: transparent;\n",
              "      border-right-color: var(--fill-color);\n",
              "      border-top-color: var(--fill-color);\n",
              "    }\n",
              "    60% {\n",
              "      border-color: transparent;\n",
              "      border-right-color: var(--fill-color);\n",
              "    }\n",
              "    80% {\n",
              "      border-color: transparent;\n",
              "      border-right-color: var(--fill-color);\n",
              "      border-bottom-color: var(--fill-color);\n",
              "    }\n",
              "    90% {\n",
              "      border-color: transparent;\n",
              "      border-bottom-color: var(--fill-color);\n",
              "    }\n",
              "  }\n",
              "</style>\n",
              "\n",
              "      <script>\n",
              "        async function quickchart(key) {\n",
              "          const quickchartButtonEl =\n",
              "            document.querySelector('#' + key + ' button');\n",
              "          quickchartButtonEl.disabled = true;  // To prevent multiple clicks.\n",
              "          quickchartButtonEl.classList.add('colab-df-spinner');\n",
              "          try {\n",
              "            const charts = await google.colab.kernel.invokeFunction(\n",
              "                'suggestCharts', [key], {});\n",
              "          } catch (error) {\n",
              "            console.error('Error during call to suggestCharts:', error);\n",
              "          }\n",
              "          quickchartButtonEl.classList.remove('colab-df-spinner');\n",
              "          quickchartButtonEl.classList.add('colab-df-quickchart-complete');\n",
              "        }\n",
              "        (() => {\n",
              "          let quickchartButtonEl =\n",
              "            document.querySelector('#df-b4efc3f7-5831-4a0f-9c97-7c1a7f6acc64 button');\n",
              "          quickchartButtonEl.style.display =\n",
              "            google.colab.kernel.accessAllowed ? 'block' : 'none';\n",
              "        })();\n",
              "      </script>\n",
              "    </div>\n",
              "\n",
              "    </div>\n",
              "  </div>\n"
            ],
            "application/vnd.google.colaboratory.intrinsic+json": {
              "type": "dataframe",
              "summary": "{\n  \"name\": \"display(df\",\n  \"rows\": 5,\n  \"fields\": [\n    {\n      \"column\": \"person_age\",\n      \"properties\": {\n        \"dtype\": \"number\",\n        \"std\": 1.5811388300841898,\n        \"min\": 21.0,\n        \"max\": 25.0,\n        \"num_unique_values\": 5,\n        \"samples\": [\n          21.0,\n          24.0,\n          25.0\n        ],\n        \"semantic_type\": \"\",\n        \"description\": \"\"\n      }\n    },\n    {\n      \"column\": \"person_gender\",\n      \"properties\": {\n        \"dtype\": \"category\",\n        \"num_unique_values\": 2,\n        \"samples\": [\n          \"male\",\n          \"female\"\n        ],\n        \"semantic_type\": \"\",\n        \"description\": \"\"\n      }\n    },\n    {\n      \"column\": \"person_education\",\n      \"properties\": {\n        \"dtype\": \"string\",\n        \"num_unique_values\": 3,\n        \"samples\": [\n          \"Master\",\n          \"High School\"\n        ],\n        \"semantic_type\": \"\",\n        \"description\": \"\"\n      }\n    },\n    {\n      \"column\": \"person_income\",\n      \"properties\": {\n        \"dtype\": \"number\",\n        \"std\": 33353.27074965812,\n        \"min\": 12282.0,\n        \"max\": 79753.0,\n        \"num_unique_values\": 5,\n        \"samples\": [\n          12282.0,\n          66135.0\n        ],\n        \"semantic_type\": \"\",\n        \"description\": \"\"\n      }\n    },\n    {\n      \"column\": \"person_emp_exp\",\n      \"properties\": {\n        \"dtype\": \"number\",\n        \"std\": 1,\n        \"min\": 0,\n        \"max\": 3,\n        \"num_unique_values\": 3,\n        \"samples\": [\n          0,\n          3\n        ],\n        \"semantic_type\": \"\",\n        \"description\": \"\"\n      }\n    },\n    {\n      \"column\": \"person_home_ownership\",\n      \"properties\": {\n        \"dtype\": \"string\",\n        \"num_unique_values\": 3,\n        \"samples\": [\n          \"RENT\",\n          \"OWN\"\n        ],\n        \"semantic_type\": \"\",\n        \"description\": \"\"\n      }\n    },\n    {\n      \"column\": \"loan_amnt\",\n      \"properties\": {\n        \"dtype\": \"number\",\n        \"std\": 17462.817642064525,\n        \"min\": 1000.0,\n        \"max\": 35000.0,\n        \"num_unique_values\": 3,\n        \"samples\": [\n          35000.0,\n          1000.0\n        ],\n        \"semantic_type\": \"\",\n        \"description\": \"\"\n      }\n    },\n    {\n      \"column\": \"loan_intent\",\n      \"properties\": {\n        \"dtype\": \"string\",\n        \"num_unique_values\": 3,\n        \"samples\": [\n          \"PERSONAL\",\n          \"EDUCATION\"\n        ],\n        \"semantic_type\": \"\",\n        \"description\": \"\"\n      }\n    },\n    {\n      \"column\": \"loan_int_rate\",\n      \"properties\": {\n        \"dtype\": \"number\",\n        \"std\": 1.9415535017093912,\n        \"min\": 11.14,\n        \"max\": 16.02,\n        \"num_unique_values\": 5,\n        \"samples\": [\n          11.14,\n          14.27\n        ],\n        \"semantic_type\": \"\",\n        \"description\": \"\"\n      }\n    },\n    {\n      \"column\": \"loan_percent_income\",\n      \"properties\": {\n        \"dtype\": \"number\",\n        \"std\": 0.18063775906493082,\n        \"min\": 0.08,\n        \"max\": 0.53,\n        \"num_unique_values\": 4,\n        \"samples\": [\n          0.08,\n          0.53\n        ],\n        \"semantic_type\": \"\",\n        \"description\": \"\"\n      }\n    },\n    {\n      \"column\": \"cb_person_cred_hist_length\",\n      \"properties\": {\n        \"dtype\": \"number\",\n        \"std\": 0.8366600265340756,\n        \"min\": 2.0,\n        \"max\": 4.0,\n        \"num_unique_values\": 3,\n        \"samples\": [\n          3.0,\n          2.0\n        ],\n        \"semantic_type\": \"\",\n        \"description\": \"\"\n      }\n    },\n    {\n      \"column\": \"credit_score\",\n      \"properties\": {\n        \"dtype\": \"number\",\n        \"std\": 66,\n        \"min\": 504,\n        \"max\": 675,\n        \"num_unique_values\": 5,\n        \"samples\": [\n          504,\n          586\n        ],\n        \"semantic_type\": \"\",\n        \"description\": \"\"\n      }\n    },\n    {\n      \"column\": \"previous_loan_defaults_on_file\",\n      \"properties\": {\n        \"dtype\": \"category\",\n        \"num_unique_values\": 2,\n        \"samples\": [\n          \"Yes\",\n          \"No\"\n        ],\n        \"semantic_type\": \"\",\n        \"description\": \"\"\n      }\n    },\n    {\n      \"column\": \"loan_status\",\n      \"properties\": {\n        \"dtype\": \"number\",\n        \"std\": 0,\n        \"min\": 0,\n        \"max\": 1,\n        \"num_unique_values\": 2,\n        \"samples\": [\n          0,\n          1\n        ],\n        \"semantic_type\": \"\",\n        \"description\": \"\"\n      }\n    }\n  ]\n}"
            }
          },
          "metadata": {}
        }
      ]
    },
    {
      "cell_type": "code",
      "source": [
        "# =============================\n",
        "# 3. Exploratory Data Analysis\n",
        "# =============================\n",
        "\n",
        "# Missing values\n",
        "print(\"\\nMissing Values:\\n\", df.isnull().sum())\n",
        "\n",
        "# Target distribution\n",
        "sns.countplot(x='loan_status', data=df, palette=\"Set2\")\n",
        "plt.title(\"Loan Status Distribution\")\n",
        "plt.show()\n",
        "\n",
        "# Gender vs Loan Status\n",
        "sns.countplot(x='person_gender', hue='loan_status', data=df, palette=\"Set1\")\n",
        "plt.title(\"Loan Approval by Gender\")\n",
        "plt.show()\n",
        "\n",
        "# Education vs Loan Status\n",
        "sns.countplot(x='person_education', hue='loan_status', data=df, palette=\"Set3\")\n",
        "plt.title(\"Loan Approval by Education\")\n",
        "plt.show()\n",
        "\n",
        "# Applicant Income distribution\n",
        "plt.figure(figsize=(8,5))\n",
        "sns.histplot(df['person_income'], bins=40, kde=True)\n",
        "plt.title(\"Applicant Income Distribution\")\n",
        "plt.show()\n",
        "\n",
        "# Boxplot of Income vs Loan Status\n",
        "sns.boxplot(x='loan_status', y='person_income', data=df, palette=\"coolwarm\")\n",
        "plt.title(\"Income vs Loan Status\")\n",
        "plt.show()"
      ],
      "metadata": {
        "colab": {
          "base_uri": "https://localhost:8080/",
          "height": 1000
        },
        "id": "Mf4Cm7K8X7Ed",
        "outputId": "7883fffc-52ed-41b9-a48e-ee666d57e7f1"
      },
      "id": "Mf4Cm7K8X7Ed",
      "execution_count": 7,
      "outputs": [
        {
          "output_type": "stream",
          "name": "stdout",
          "text": [
            "\n",
            "Missing Values:\n",
            " person_age                        0\n",
            "person_gender                     0\n",
            "person_education                  0\n",
            "person_income                     0\n",
            "person_emp_exp                    0\n",
            "person_home_ownership             0\n",
            "loan_amnt                         0\n",
            "loan_intent                       0\n",
            "loan_int_rate                     0\n",
            "loan_percent_income               0\n",
            "cb_person_cred_hist_length        0\n",
            "credit_score                      0\n",
            "previous_loan_defaults_on_file    0\n",
            "loan_status                       0\n",
            "dtype: int64\n"
          ]
        },
        {
          "output_type": "stream",
          "name": "stderr",
          "text": [
            "/tmp/ipython-input-474951307.py:9: FutureWarning: \n",
            "\n",
            "Passing `palette` without assigning `hue` is deprecated and will be removed in v0.14.0. Assign the `x` variable to `hue` and set `legend=False` for the same effect.\n",
            "\n",
            "  sns.countplot(x='loan_status', data=df, palette=\"Set2\")\n"
          ]
        },
        {
          "output_type": "display_data",
          "data": {
            "text/plain": [
              "<Figure size 640x480 with 1 Axes>"
            ],
            "image/png": "[encoded data removed]"
          },
          "metadata": {}
        },
        {
          "output_type": "display_data",
          "data": {
            "text/plain": [
              "<Figure size 640x480 with 1 Axes>"
            ],
            "image/png": "[encoded data removed]"
          },
          "metadata": {}
        },
        {
          "output_type": "display_data",
          "data": {
            "text/plain": [
              "<Figure size 640x480 with 1 Axes>"
            ],
            "image/png": "[encoded data removed]"
          },
          "metadata": {}
        },
        {
          "output_type": "display_data",
          "data": {
            "text/plain": [
              "<Figure size 800x500 with 1 Axes>"
            ],
            "image/png": "[encoded data removed]"
          },
          "metadata": {}
        },
        {
          "output_type": "stream",
          "name": "stderr",
          "text": [
            "/tmp/ipython-input-474951307.py:30: FutureWarning: \n",
            "\n",
            "Passing `palette` without assigning `hue` is deprecated and will be removed in v0.14.0. Assign the `x` variable to `hue` and set `legend=False` for the same effect.\n",
            "\n",
            "  sns.boxplot(x='loan_status', y='person_income', data=df, palette=\"coolwarm\")\n"
          ]
        },
        {
          "output_type": "display_data",
          "data": {
            "text/plain": [
              "<Figure size 640x480 with 1 Axes>"
            ],
            "image/png": "[encoded data removed]"
          },
          "metadata": {}
        }
      ]
    },
    {
      "cell_type": "code",
      "source": [
        "\n",
        "# =============================\n",
        "# 4. Data Preprocessing\n",
        "# =============================\n",
        "\n",
        "# Drop Loan_ID if present\n",
        "if 'Loan_ID' in df.columns:\n",
        "    df.drop('Loan_ID', axis=1, inplace=True)\n",
        "\n",
        "# Fill missing values\n",
        "for col in df.columns:\n",
        "    if df[col].dtype == 'object':\n",
        "        df[col].fillna(df[col].mode()[0], inplace=True)\n",
        "    else:\n",
        "        df[col].fillna(df[col].median(), inplace=True)\n",
        "\n",
        "# Encode categorical variables\n",
        "le = LabelEncoder()\n",
        "for col in df.select_dtypes(include='object').columns:\n",
        "    df[col] = le.fit_transform(df[col])\n",
        "\n",
        "# Features and target\n",
        "X = df.drop('loan_status', axis=1)\n",
        "y = df['loan_status']\n",
        "\n",
        "# Scale numerical features\n",
        "scaler = StandardScaler()\n",
        "X = pd.DataFrame(scaler.fit_transform(X), columns=X.columns)"
      ],
      "metadata": {
        "colab": {
          "base_uri": "https://localhost:8080/"
        },
        "id": "AYJYF5miYwPz",
        "outputId": "a7659e07-6721-459e-d55c-f15f8e671ae8"
      },
      "id": "AYJYF5miYwPz",
      "execution_count": 10,
      "outputs": [
        {
          "output_type": "stream",
          "name": "stderr",
          "text": [
            "/tmp/ipython-input-3460129514.py:14: FutureWarning: A value is trying to be set on a copy of a DataFrame or Series through chained assignment using an inplace method.\n",
            "The behavior will change in pandas 3.0. This inplace method will never work because the intermediate object on which we are setting values always behaves as a copy.\n",
            "\n",
            "For example, when doing 'df[col].method(value, inplace=True)', try using 'df.method({col: value}, inplace=True)' or df[col] = df[col].method(value) instead, to perform the operation inplace on the original object.\n",
            "\n",
            "\n",
            "  df[col].fillna(df[col].median(), inplace=True)\n"
          ]
        }
      ]
    },
    {
      "cell_type": "code",
      "source": [
        "# =============================\n",
        "# 5. Train-Test Split\n",
        "# =============================\n",
        "X_train, X_test, y_train, y_test = train_test_split(X, y, test_size=0.2, random_state=42)"
      ],
      "metadata": {
        "id": "WIPe0r20ZDiM"
      },
      "id": "WIPe0r20ZDiM",
      "execution_count": 11,
      "outputs": []
    },
    {
      "cell_type": "code",
      "source": [
        "# =============================\n",
        "# 6. Logistic Regression Model\n",
        "# =============================\n",
        "model = LogisticRegression(max_iter=1000)\n",
        "model.fit(X_train, y_train)\n",
        "\n",
        "# Predictions\n",
        "y_pred = model.predict(X_test)"
      ],
      "metadata": {
        "id": "Jo_IenOoZIMo"
      },
      "id": "Jo_IenOoZIMo",
      "execution_count": 15,
      "outputs": []
    },
    {
      "cell_type": "code",
      "source": [
        "\n",
        "# =============================\n",
        "# 7. Evaluation\n",
        "# =============================\n",
        "print(\"\\nAccuracy:\", accuracy_score(y_test, y_pred))\n",
        "print(\"\\nClassification Report:\\n\", classification_report(y_test, y_pred))\n",
        "\n",
        "# Plot confusion matrix heatmap\n",
        "plt.figure(figsize=(5,4))\n",
        "sns.heatmap(confusion_matrix(y_test, y_pred), annot=True, fmt='d', cmap=\"Blues\", xticklabels=[\"Not Approved\",\"Approved\"], yticklabels=[\"Not Approved\",\"Approved\"])\n",
        "plt.xlabel(\"Predicted\")\n",
        "plt.ylabel(\"Actual\")\n",
        "plt.title(\"Confusion Matrix\")\n",
        "plt.show()\n"
      ],
      "metadata": {
        "colab": {
          "base_uri": "https://localhost:8080/",
          "height": 642
        },
        "id": "OEyzpncd5Ct3",
        "outputId": "fe3236e4-b840-43c3-e910-a3cce0d7c0e2"
      },
      "id": "OEyzpncd5Ct3",
      "execution_count": 18,
      "outputs": [
        {
          "output_type": "stream",
          "name": "stdout",
          "text": [
            "\n",
            "Accuracy: 0.8901111111111111\n",
            "\n",
            "Classification Report:\n",
            "               precision    recall  f1-score   support\n",
            "\n",
            "           0       0.92      0.94      0.93      6990\n",
            "           1       0.77      0.73      0.75      2010\n",
            "\n",
            "    accuracy                           0.89      9000\n",
            "   macro avg       0.84      0.83      0.84      9000\n",
            "weighted avg       0.89      0.89      0.89      9000\n",
            "\n"
          ]
        },
        {
          "output_type": "display_data",
          "data": {
            "text/plain": [
              "<Figure size 500x400 with 2 Axes>"
            ],
            "image/png": "[encoded data removed]"
          },
          "metadata": {}
        }
      ]
    },
    {
      "cell_type": "code",
      "source": [
        "import random\n",
        "\n",
        "# take 5 random samples from test set\n",
        "sample_indices = random.sample(range(len(X_test)), 5)\n",
        "\n",
        "for i in sample_indices:\n",
        "    row = X_test.iloc[i]\n",
        "\n",
        "    print(\"=\"*80)\n",
        "    print(\"Applicant Details:\")\n",
        "    print(f\"  Age                  : {row['person_age']}\")\n",
        "    print(f\"  Gender               : {row['person_gender']}\")\n",
        "    print(f\"  Education            : {row['person_education']}\")\n",
        "    print(f\"  Income               : {row['person_income']}\")\n",
        "    print(f\"  Employment Exp (yrs) : {row['person_emp_exp']}\")\n",
        "    print(f\"  Home Ownership       : {row['person_home_ownership']}\")\n",
        "    print(f\"  Loan Amount          : {row['loan_amnt']}\")\n",
        "    print(f\"  Loan Intent          : {row['loan_intent']}\")\n",
        "    print(f\"  Interest Rate (%)    : {row['loan_int_rate']}\")\n",
        "    print(f\"  Loan % of Income     : {row['loan_percent_income']}\")\n",
        "    print(f\"  Credit History (yrs) : {row['cb_person_cred_hist_length']}\")\n",
        "    print(f\"  Credit Score         : {row['credit_score']}\")\n",
        "    print(f\"  Previous Defaults    : {row['previous_loan_defaults_on_file']}\")\n",
        "\n",
        "    # actual + predicted labels\n",
        "    actual = \"Approved\" if y_test.iloc[i] == 1 else \"Not Approved\"\n",
        "    predicted = \"Approved\" if y_pred[i] == 1 else \"Not Approved\"\n",
        "\n",
        "    print(f\"\\nActual Loan Status   : {actual}\")\n",
        "    print(f\"Predicted Loan Status: {predicted}\")\n"
      ],
      "metadata": {
        "colab": {
          "base_uri": "https://localhost:8080/"
        },
        "id": "XxVk4OYZaou3",
        "outputId": "75bc7de2-3a37-4f72-dbc2-239a3ae2235d"
      },
      "id": "XxVk4OYZaou3",
      "execution_count": 26,
      "outputs": [
        {
          "output_type": "stream",
          "name": "stdout",
          "text": [
            "================================================================================\n",
            "Applicant Details:\n",
            "  Age                  : 26.0\n",
            "  Gender               : 0.0\n",
            "  Education            : 1.0\n",
            "  Income               : 54950.0\n",
            "  Employment Exp (yrs) : 7.0\n",
            "  Home Ownership       : 3.0\n",
            "  Loan Amount          : 10800.0\n",
            "  Loan Intent          : 3.0\n",
            "  Interest Rate (%)    : 6.17\n",
            "  Loan % of Income     : 0.2\n",
            "  Credit History (yrs) : 3.0\n",
            "  Credit Score         : 702.0\n",
            "  Previous Defaults    : 0.0\n",
            "\n",
            "Actual Loan Status   : Not Approved\n",
            "Predicted Loan Status: Not Approved\n",
            "================================================================================\n",
            "Applicant Details:\n",
            "  Age                  : 23.0\n",
            "  Gender               : 1.0\n",
            "  Education            : 4.0\n",
            "  Income               : 48901.0\n",
            "  Employment Exp (yrs) : 3.0\n",
            "  Home Ownership       : 3.0\n",
            "  Loan Amount          : 1000.0\n",
            "  Loan Intent          : 5.0\n",
            "  Interest Rate (%)    : 10.62\n",
            "  Loan % of Income     : 0.02\n",
            "  Credit History (yrs) : 4.0\n",
            "  Credit Score         : 670.0\n",
            "  Previous Defaults    : 1.0\n",
            "\n",
            "Actual Loan Status   : Not Approved\n",
            "Predicted Loan Status: Not Approved\n",
            "================================================================================\n",
            "Applicant Details:\n",
            "  Age                  : 23.0\n",
            "  Gender               : 1.0\n",
            "  Education            : 3.0\n",
            "  Income               : 58629.0\n",
            "  Employment Exp (yrs) : 0.0\n",
            "  Home Ownership       : 0.0\n",
            "  Loan Amount          : 16800.0\n",
            "  Loan Intent          : 0.0\n",
            "  Interest Rate (%)    : 14.59\n",
            "  Loan % of Income     : 0.29\n",
            "  Credit History (yrs) : 2.0\n",
            "  Credit Score         : 603.0\n",
            "  Previous Defaults    : 0.0\n",
            "\n",
            "Actual Loan Status   : Approved\n",
            "Predicted Loan Status: Approved\n",
            "================================================================================\n",
            "Applicant Details:\n",
            "  Age                  : 29.0\n",
            "  Gender               : 1.0\n",
            "  Education            : 0.0\n",
            "  Income               : 79120.0\n",
            "  Employment Exp (yrs) : 5.0\n",
            "  Home Ownership       : 3.0\n",
            "  Loan Amount          : 15000.0\n",
            "  Loan Intent          : 5.0\n",
            "  Interest Rate (%)    : 11.83\n",
            "  Loan % of Income     : 0.19\n",
            "  Credit History (yrs) : 9.0\n",
            "  Credit Score         : 638.0\n",
            "  Previous Defaults    : 1.0\n",
            "\n",
            "Actual Loan Status   : Not Approved\n",
            "Predicted Loan Status: Not Approved\n",
            "================================================================================\n",
            "Applicant Details:\n",
            "  Age                  : 24.0\n",
            "  Gender               : 1.0\n",
            "  Education            : 1.0\n",
            "  Income               : 60854.0\n",
            "  Employment Exp (yrs) : 1.0\n",
            "  Home Ownership       : 3.0\n",
            "  Loan Amount          : 10000.0\n",
            "  Loan Intent          : 4.0\n",
            "  Interest Rate (%)    : 11.71\n",
            "  Loan % of Income     : 0.16\n",
            "  Credit History (yrs) : 2.0\n",
            "  Credit Score         : 540.0\n",
            "  Previous Defaults    : 1.0\n",
            "\n",
            "Actual Loan Status   : Not Approved\n",
            "Predicted Loan Status: Not Approved\n"
          ]
        }
      ]
    }
  ],
  "metadata": {
    "kaggle": {
      "accelerator": "none",
      "dataSources": [
        {
          "datasetId": 5969230,
          "sourceId": 9750039,
          "sourceType": "datasetVersion"
        }
      ],
      "dockerImageVersionId": 30918,
      "isGpuEnabled": false,
      "isInternetEnabled": true,
      "language": "python",
      "sourceType": "notebook"
    },
    "kernelspec": {
      "display_name": "Python 3",
      "name": "python3"
    },
    "language_info": {
      "codemirror_mode": {
        "name": "ipython",
        "version": 3
      },
      "file_extension": ".py",
      "mimetype": "text/x-python",
      "name": "python",
      "nbconvert_exporter": "python",
      "pygments_lexer": "ipython3",
      "version": "3.10.12"
    },
    "papermill": {
      "default_parameters": {},
      "duration": 107.059892,
      "end_time": "2025-03-26T11:27:30.702716",
      "environment_variables": {},
      "exception": null,
      "input_path": "__notebook__.ipynb",
      "output_path": "__notebook__.ipynb",
      "parameters": {},
      "start_time": "2025-03-26T11:25:43.642824",
      "version": "2.6.0"
    },
    "colab": {
      "provenance": [],
      "gpuType": "T4"
    },
    "accelerator": "GPU"
  },
  "nbformat": 4,
  "nbformat_minor": 5
}